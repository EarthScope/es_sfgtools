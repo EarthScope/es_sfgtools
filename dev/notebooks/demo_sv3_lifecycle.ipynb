{
 "cells": [
  {
   "cell_type": "code",
   "execution_count": 1,
   "metadata": {},
   "outputs": [],
   "source": [
    "import os\n",
    "from pathlib import Path\n",
    "\n",
    "from es_sfgtools.processing.assets.siteconfig import SiteConfig\n",
    "from es_sfgtools.processing.operations.site_ops import (\n",
    "    CTDfile_to_svp,\n",
    ")\n",
    "from es_sfgtools.processing.pipeline.data_handler import DataHandler\n",
    "from es_sfgtools.utils.loggers import BaseLogger\n",
    "\n",
    "pride_path = Path.home() / \".PRIDE_PPPAR_BIN\"\n",
    "os.environ[\"PATH\"] += os.pathsep + str(pride_path)"
   ]
  },
  {
   "cell_type": "code",
   "execution_count": 2,
   "metadata": {},
   "outputs": [],
   "source": [
    "main_dir = Path(\"/Users/franklyndunbar/Project/SeaFloorGeodesy/Data/SFGMain\")\n",
    "BaseLogger.set_format_minimal()\n",
    "dh = DataHandler(main_dir)"
   ]
  },
  {
   "cell_type": "code",
   "execution_count": 3,
   "metadata": {},
   "outputs": [],
   "source": [
    "network = \"cascadia-gorda\"\n",
    "station = \"NCC1\"\n",
    "survey = \"2024_A_1126\"\n",
    "dh.change_working_station(network=network, station=station, survey=survey)"
   ]
  },
  {
   "cell_type": "code",
   "execution_count": 4,
   "metadata": {},
   "outputs": [
    {
     "name": "stdout",
     "output_type": "stream",
     "text": [
      "Processing Novatel 770 data for cascadia-gorda NCC1 2024_A_1126\n",
      "Getting assets for cascadia-gorda NCC1 2024_A_1126 AssetType.NOVATEL770\n",
      "Processing Novatel 000 data for cascadia-gorda NCC1 2024_A_1126\n",
      "Getting assets for cascadia-gorda NCC1 2024_A_1126 AssetType.NOVATEL000\n",
      "Getting assets for cascadia-gorda NCC1 2024_A_1126 AssetType.RINEX\n",
      "Getting assets for cascadia-gorda NCC1 2024_A_1126 AssetType.KIN\n"
     ]
    },
    {
     "name": "stderr",
     "output_type": "stream",
     "text": [
      "/Users/franklyndunbar/Project/SeaFloorGeodesy/es_sfgtools/src/es_sfgtools/processing/operations/gnss_ops.py:721: UserWarning: No kin file generated from RINEX /Users/franklyndunbar/Project/SeaFloorGeodesy/Data/SFGMain/cascadia-gorda/NCC1/2024_A_1126/intermediate/NCC12760.24o\n",
      "  warn(response)\n",
      "/Users/franklyndunbar/Project/SeaFloorGeodesy/es_sfgtools/src/es_sfgtools/processing/operations/gnss_ops.py:721: UserWarning: No kin file generated from RINEX /Users/franklyndunbar/Project/SeaFloorGeodesy/Data/SFGMain/cascadia-gorda/NCC1/2024_A_1126/intermediate/NCC12820.24o\n",
      "  warn(response)\n",
      "/Users/franklyndunbar/Project/SeaFloorGeodesy/es_sfgtools/src/es_sfgtools/processing/operations/gnss_ops.py:721: UserWarning: No kin file generated from RINEX /Users/franklyndunbar/Project/SeaFloorGeodesy/Data/SFGMain/cascadia-gorda/NCC1/2024_A_1126/intermediate/NCC12690.24o\n",
      "  warn(response)\n",
      "/Users/franklyndunbar/Project/SeaFloorGeodesy/es_sfgtools/src/es_sfgtools/processing/operations/gnss_ops.py:721: UserWarning: No kin file generated from RINEX /Users/franklyndunbar/Project/SeaFloorGeodesy/Data/SFGMain/cascadia-gorda/NCC1/2024_A_1126/intermediate/NCC12880.24o\n",
      "  warn(response)\n",
      "/Users/franklyndunbar/Project/SeaFloorGeodesy/es_sfgtools/src/es_sfgtools/processing/operations/gnss_ops.py:721: UserWarning: No kin file generated from RINEX /Users/franklyndunbar/Project/SeaFloorGeodesy/Data/SFGMain/cascadia-gorda/NCC1/2024_A_1126/intermediate/NCC12860.24o\n",
      "  warn(response)\n",
      "/Users/franklyndunbar/Project/SeaFloorGeodesy/es_sfgtools/src/es_sfgtools/processing/operations/gnss_ops.py:721: UserWarning: No kin file generated from RINEX /Users/franklyndunbar/Project/SeaFloorGeodesy/Data/SFGMain/cascadia-gorda/NCC1/2024_A_1126/intermediate/NCC12850.24o\n",
      "  warn(response)\n",
      "/Users/franklyndunbar/Project/SeaFloorGeodesy/es_sfgtools/src/es_sfgtools/processing/operations/gnss_ops.py:721: UserWarning: No kin file generated from RINEX /Users/franklyndunbar/Project/SeaFloorGeodesy/Data/SFGMain/cascadia-gorda/NCC1/2024_A_1126/intermediate/NCC12670.24o\n",
      "  warn(response)\n",
      "/Users/franklyndunbar/Project/SeaFloorGeodesy/es_sfgtools/src/es_sfgtools/processing/operations/gnss_ops.py:721: UserWarning: No kin file generated from RINEX /Users/franklyndunbar/Project/SeaFloorGeodesy/Data/SFGMain/cascadia-gorda/NCC1/2024_A_1126/intermediate/NCC12840.24o\n",
      "  warn(response)\n",
      "/Users/franklyndunbar/Project/SeaFloorGeodesy/es_sfgtools/src/es_sfgtools/processing/operations/gnss_ops.py:721: UserWarning: No kin file generated from RINEX /Users/franklyndunbar/Project/SeaFloorGeodesy/Data/SFGMain/cascadia-gorda/NCC1/2024_A_1126/intermediate/NCC12710.24o\n",
      "  warn(response)\n"
     ]
    },
    {
     "data": {
      "application/vnd.jupyter.widget-view+json": {
       "model_id": "5b6ebbef23c449a195dc69d5e8a5db1f",
       "version_major": 2,
       "version_minor": 0
      },
      "text/plain": [
       "Processing Rinex Files:   0%|          | 0/9 [00:00<?, ?it/s]"
      ]
     },
     "metadata": {},
     "output_type": "display_data"
    },
    {
     "name": "stdout",
     "output_type": "stream",
     "text": [
      "Getting assets for cascadia-gorda NCC1 2024_A_1126 AssetType.KIN\n",
      "Getting assets for cascadia-gorda NCC1 2024_A_1126 AssetType.KINRESIDUALS\n",
      "Getting assets for cascadia-gorda NCC1 2024_A_1126 AssetType.DFOP00\n"
     ]
    },
    {
     "data": {
      "application/vnd.jupyter.widget-view+json": {
       "model_id": "bcabdeb149f54381a2c1fec8d37bbcfc",
       "version_major": 2,
       "version_minor": 0
      },
      "text/plain": [
       "Processing DFOP00 Files:   0%|          | 0/25 [00:00<?, ?it/s]"
      ]
     },
     "metadata": {},
     "output_type": "display_data"
    },
    {
     "name": "stdout",
     "output_type": "stream",
     "text": [
      "Updating shotdata with interpolated gnss data\n"
     ]
    }
   ],
   "source": [
    "sv3_pipeline,config = dh.get_pipeline_sv3()\n",
    "config.novatel_config.override = False\n",
    "config.dfop00_config.override = True\n",
    "sv3_pipeline.config = config\n",
    "sv3_pipeline.run_pipeline()"
   ]
  },
  {
   "cell_type": "code",
   "execution_count": 5,
   "metadata": {},
   "outputs": [],
   "source": [
    "ncc1_2024_config = dh.station_dir / \"NCC1_2024_config.yaml\"\n",
    "svp_path = dh.station_dir / \"NCC1_CTD_2021_fit\"\n",
    "svp_path_processed = dh.station_dir / \"svp.csv\"\n",
    "site_path = Path(\n",
    "    \"/Users/franklyndunbar/Project/SeaFloorGeodesy/es_sfgtools/dev/NCC1_Dec3_move_around.json\"\n",
    ")\n",
    "if not svp_path_processed.exists():\n",
    "    svp_df = CTDfile_to_svp(svp_path)\n",
    "    svp_df.to_csv(svp_path_processed)\n",
    "config = SiteConfig.from_config(ncc1_2024_config)\n",
    "config.sound_speed_data = svp_path_processed\n",
    "gp_handler_ncc1= dh.get_garpos_handler(site_config=config)"
   ]
  },
  {
   "cell_type": "code",
   "execution_count": 7,
   "metadata": {},
   "outputs": [],
   "source": [
    "gp_handler_ncc1.load_campaign_data(site_path)\n",
    "gp_handler_ncc1.set_campaign(\"2024_A_1126\")\n",
    "\n",
    "gp_handler_ncc1.prep_shotdata(True)\n",
    "update_dict = {\"rejectcriteria\": 2.5}\n",
    "gp_handler_ncc1.set_inversion_params(update_dict)\n",
    "# gp_handler_ncc1.run_garpos()"
   ]
  },
  {
   "cell_type": "code",
   "execution_count": null,
   "metadata": {},
   "outputs": [],
   "source": [
    "gp_handler_ncc1.run_garpos()"
   ]
  }
 ],
 "metadata": {
  "kernelspec": {
   "display_name": "seafloor-geodesy",
   "language": "python",
   "name": "python3"
  },
  "language_info": {
   "codemirror_mode": {
    "name": "ipython",
    "version": 3
   },
   "file_extension": ".py",
   "mimetype": "text/x-python",
   "name": "python",
   "nbconvert_exporter": "python",
   "pygments_lexer": "ipython3",
   "version": "3.11.10"
  }
 },
 "nbformat": 4,
 "nbformat_minor": 2
}
