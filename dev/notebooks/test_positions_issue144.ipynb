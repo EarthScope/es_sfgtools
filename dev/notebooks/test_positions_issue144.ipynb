{
 "cells": [
  {
   "cell_type": "code",
   "execution_count": 89,
   "metadata": {},
   "outputs": [],
   "source": [
    "from datetime import datetime\n",
    "from pathlib import Path\n",
    "\n",
    "from es_sfgtools.processing.pipeline.data_handler import DataHandler"
   ]
  },
  {
   "cell_type": "code",
   "execution_count": 90,
   "metadata": {},
   "outputs": [
    {
     "name": "stderr",
     "output_type": "stream",
     "text": [
      "Building directory structure for cascadia-gorda NCC1 2024_A_1126\n",
      "No date range set for cascadia-gorda, NCC1, 2024_A_1126\n",
      "Building TileDB arrays for NCC1\n",
      "Changed working station to cascadia-gorda NCC1\n"
     ]
    }
   ],
   "source": [
    "network = 'cascadia-gorda'\n",
    "station = 'NCC1'\n",
    "campaign = '2024_A_1126'\n",
    "dh = DataHandler(Path(\"/Users/franklyndunbar/Project/SeaFloorGeodesy/Data/SFGMain\"))\n",
    "dh.change_working_station(network, station, campaign)"
   ]
  },
  {
   "cell_type": "code",
   "execution_count": 91,
   "metadata": {},
   "outputs": [
    {
     "data": {
      "text/plain": [
       "array(['2024-09-22', '2024-09-23', '2024-09-24', '2024-09-25',\n",
       "       '2024-09-26', '2024-09-27', '2024-09-30', '2024-10-01',\n",
       "       '2024-10-03', '2024-10-04', '2024-10-05', '2024-10-06',\n",
       "       '2024-10-07', '2024-10-08', '2024-10-09', '2024-10-10',\n",
       "       '2024-10-11', '2024-10-12', '2024-10-13', '2024-10-14'],\n",
       "      dtype='datetime64[D]')"
      ]
     },
     "execution_count": 91,
     "metadata": {},
     "output_type": "execute_result"
    }
   ],
   "source": [
    "dh.shotdata_tdb_pre.get_unique_dates()"
   ]
  },
  {
   "cell_type": "code",
   "execution_count": 92,
   "metadata": {},
   "outputs": [],
   "source": [
    "day1 = datetime(2024,9,22, 0, 0, 0)\n",
    "test_df = dh.shotdata_tdb_pre.read_df(day1).sort_values(by='pingTime')"
   ]
  },
  {
   "cell_type": "code",
   "execution_count": 93,
   "metadata": {},
   "outputs": [
    {
     "data": {
      "text/html": [
       "<div>\n",
       "<style scoped>\n",
       "    .dataframe tbody tr th:only-of-type {\n",
       "        vertical-align: middle;\n",
       "    }\n",
       "\n",
       "    .dataframe tbody tr th {\n",
       "        vertical-align: top;\n",
       "    }\n",
       "\n",
       "    .dataframe thead th {\n",
       "        text-align: right;\n",
       "    }\n",
       "</style>\n",
       "<table border=\"1\" class=\"dataframe\">\n",
       "  <thead>\n",
       "    <tr style=\"text-align: right;\">\n",
       "      <th></th>\n",
       "      <th>pingTime</th>\n",
       "      <th>transponderID</th>\n",
       "      <th>head0</th>\n",
       "      <th>pitch0</th>\n",
       "      <th>roll0</th>\n",
       "      <th>head1</th>\n",
       "      <th>pitch1</th>\n",
       "      <th>roll1</th>\n",
       "      <th>east0</th>\n",
       "      <th>north0</th>\n",
       "      <th>...</th>\n",
       "      <th>up1</th>\n",
       "      <th>east_std</th>\n",
       "      <th>north_std</th>\n",
       "      <th>up_std</th>\n",
       "      <th>returnTime</th>\n",
       "      <th>tt</th>\n",
       "      <th>dbv</th>\n",
       "      <th>xc</th>\n",
       "      <th>snr</th>\n",
       "      <th>tat</th>\n",
       "    </tr>\n",
       "  </thead>\n",
       "  <tbody>\n",
       "    <tr>\n",
       "      <th>0</th>\n",
       "      <td>2024-09-22 10:51:56.130</td>\n",
       "      <td>5209</td>\n",
       "      <td>10.828026</td>\n",
       "      <td>-2.797887</td>\n",
       "      <td>9.026341</td>\n",
       "      <td>7.442731</td>\n",
       "      <td>-0.023516</td>\n",
       "      <td>0.779365</td>\n",
       "      <td>-2.733006e+06</td>\n",
       "      <td>-3.912169e+06</td>\n",
       "      <td>...</td>\n",
       "      <td>4.217343e+06</td>\n",
       "      <td>7.958</td>\n",
       "      <td>12.346</td>\n",
       "      <td>20.7</td>\n",
       "      <td>2024-09-22 10:51:58.074</td>\n",
       "      <td>1.744895</td>\n",
       "      <td>239</td>\n",
       "      <td>78</td>\n",
       "      <td>14.0</td>\n",
       "      <td>0.20</td>\n",
       "    </tr>\n",
       "    <tr>\n",
       "      <th>2714</th>\n",
       "      <td>2024-09-22 10:51:56.130</td>\n",
       "      <td>5210</td>\n",
       "      <td>10.828026</td>\n",
       "      <td>-2.797887</td>\n",
       "      <td>9.026341</td>\n",
       "      <td>5.415583</td>\n",
       "      <td>0.506221</td>\n",
       "      <td>-1.655340</td>\n",
       "      <td>-2.733006e+06</td>\n",
       "      <td>-3.912169e+06</td>\n",
       "      <td>...</td>\n",
       "      <td>4.217343e+06</td>\n",
       "      <td>7.958</td>\n",
       "      <td>12.346</td>\n",
       "      <td>20.7</td>\n",
       "      <td>2024-09-22 10:51:58.312</td>\n",
       "      <td>1.862112</td>\n",
       "      <td>242</td>\n",
       "      <td>88</td>\n",
       "      <td>20.0</td>\n",
       "      <td>0.32</td>\n",
       "    </tr>\n",
       "    <tr>\n",
       "      <th>5254</th>\n",
       "      <td>2024-09-22 10:51:56.130</td>\n",
       "      <td>5211</td>\n",
       "      <td>10.828026</td>\n",
       "      <td>-2.797887</td>\n",
       "      <td>9.026341</td>\n",
       "      <td>6.627729</td>\n",
       "      <td>-0.165666</td>\n",
       "      <td>0.397638</td>\n",
       "      <td>-2.733006e+06</td>\n",
       "      <td>-3.912169e+06</td>\n",
       "      <td>...</td>\n",
       "      <td>4.217343e+06</td>\n",
       "      <td>7.958</td>\n",
       "      <td>12.346</td>\n",
       "      <td>20.7</td>\n",
       "      <td>2024-09-22 10:51:58.156</td>\n",
       "      <td>1.586259</td>\n",
       "      <td>239</td>\n",
       "      <td>81</td>\n",
       "      <td>17.0</td>\n",
       "      <td>0.44</td>\n",
       "    </tr>\n",
       "    <tr>\n",
       "      <th>2715</th>\n",
       "      <td>2024-09-22 10:52:11.130</td>\n",
       "      <td>5210</td>\n",
       "      <td>8.749385</td>\n",
       "      <td>4.165433</td>\n",
       "      <td>6.069981</td>\n",
       "      <td>2.194024</td>\n",
       "      <td>1.787297</td>\n",
       "      <td>2.869472</td>\n",
       "      <td>-2.733003e+06</td>\n",
       "      <td>-3.912167e+06</td>\n",
       "      <td>...</td>\n",
       "      <td>4.217346e+06</td>\n",
       "      <td>7.957</td>\n",
       "      <td>12.314</td>\n",
       "      <td>20.7</td>\n",
       "      <td>2024-09-22 10:52:13.314</td>\n",
       "      <td>1.864402</td>\n",
       "      <td>245</td>\n",
       "      <td>76</td>\n",
       "      <td>21.0</td>\n",
       "      <td>0.32</td>\n",
       "    </tr>\n",
       "    <tr>\n",
       "      <th>1</th>\n",
       "      <td>2024-09-22 10:52:11.130</td>\n",
       "      <td>5209</td>\n",
       "      <td>8.749385</td>\n",
       "      <td>4.165433</td>\n",
       "      <td>6.069981</td>\n",
       "      <td>4.389290</td>\n",
       "      <td>5.235104</td>\n",
       "      <td>7.258364</td>\n",
       "      <td>-2.733003e+06</td>\n",
       "      <td>-3.912167e+06</td>\n",
       "      <td>...</td>\n",
       "      <td>4.217346e+06</td>\n",
       "      <td>7.957</td>\n",
       "      <td>12.314</td>\n",
       "      <td>20.7</td>\n",
       "      <td>2024-09-22 10:52:13.076</td>\n",
       "      <td>1.746415</td>\n",
       "      <td>243</td>\n",
       "      <td>91</td>\n",
       "      <td>18.0</td>\n",
       "      <td>0.20</td>\n",
       "    </tr>\n",
       "  </tbody>\n",
       "</table>\n",
       "<p>5 rows × 23 columns</p>\n",
       "</div>"
      ],
      "text/plain": [
       "                    pingTime transponderID      head0    pitch0     roll0  \\\n",
       "0    2024-09-22 10:51:56.130          5209  10.828026 -2.797887  9.026341   \n",
       "2714 2024-09-22 10:51:56.130          5210  10.828026 -2.797887  9.026341   \n",
       "5254 2024-09-22 10:51:56.130          5211  10.828026 -2.797887  9.026341   \n",
       "2715 2024-09-22 10:52:11.130          5210   8.749385  4.165433  6.069981   \n",
       "1    2024-09-22 10:52:11.130          5209   8.749385  4.165433  6.069981   \n",
       "\n",
       "         head1    pitch1     roll1         east0        north0  ...  \\\n",
       "0     7.442731 -0.023516  0.779365 -2.733006e+06 -3.912169e+06  ...   \n",
       "2714  5.415583  0.506221 -1.655340 -2.733006e+06 -3.912169e+06  ...   \n",
       "5254  6.627729 -0.165666  0.397638 -2.733006e+06 -3.912169e+06  ...   \n",
       "2715  2.194024  1.787297  2.869472 -2.733003e+06 -3.912167e+06  ...   \n",
       "1     4.389290  5.235104  7.258364 -2.733003e+06 -3.912167e+06  ...   \n",
       "\n",
       "               up1  east_std  north_std  up_std              returnTime  \\\n",
       "0     4.217343e+06     7.958     12.346    20.7 2024-09-22 10:51:58.074   \n",
       "2714  4.217343e+06     7.958     12.346    20.7 2024-09-22 10:51:58.312   \n",
       "5254  4.217343e+06     7.958     12.346    20.7 2024-09-22 10:51:58.156   \n",
       "2715  4.217346e+06     7.957     12.314    20.7 2024-09-22 10:52:13.314   \n",
       "1     4.217346e+06     7.957     12.314    20.7 2024-09-22 10:52:13.076   \n",
       "\n",
       "            tt  dbv  xc   snr   tat  \n",
       "0     1.744895  239  78  14.0  0.20  \n",
       "2714  1.862112  242  88  20.0  0.32  \n",
       "5254  1.586259  239  81  17.0  0.44  \n",
       "2715  1.864402  245  76  21.0  0.32  \n",
       "1     1.746415  243  91  18.0  0.20  \n",
       "\n",
       "[5 rows x 23 columns]"
      ]
     },
     "execution_count": 93,
     "metadata": {},
     "output_type": "execute_result"
    }
   ],
   "source": [
    "test_df.head()"
   ]
  },
  {
   "cell_type": "code",
   "execution_count": 94,
   "metadata": {},
   "outputs": [
    {
     "data": {
      "text/plain": [
       "892"
      ]
     },
     "execution_count": 94,
     "metadata": {},
     "output_type": "execute_result"
    }
   ],
   "source": [
    "north1_unique = test_df.north1.unique().shape\n",
    "test_df.north1.shape[0] - north1_unique[0]"
   ]
  },
  {
   "cell_type": "code",
   "execution_count": 95,
   "metadata": {},
   "outputs": [
    {
     "data": {
      "text/plain": [
       "array([-3912168.0138224 , -3912167.73348629, -3912167.93393657,\n",
       "       -3912167.16629759, -3912167.27497734, -3912167.29827804,\n",
       "       -3912161.95016907, -3912162.05464001, -3912162.28636779,\n",
       "       -3912158.90552117])"
      ]
     },
     "execution_count": 95,
     "metadata": {},
     "output_type": "execute_result"
    }
   ],
   "source": [
    "test_df.north1.to_numpy()[:10]"
   ]
  },
  {
   "cell_type": "code",
   "execution_count": 96,
   "metadata": {},
   "outputs": [],
   "source": [
    "pt = test_df.pingTime.to_numpy()[:10]\n",
    "rt = test_df.returnTime.to_numpy()[:10]\n"
   ]
  },
  {
   "cell_type": "code",
   "execution_count": 97,
   "metadata": {},
   "outputs": [
    {
     "data": {
      "text/plain": [
       "array(['2024-09-22T10:51:58.074', '2024-09-22T10:51:58.312',\n",
       "       '2024-09-22T10:51:58.156', '2024-09-22T10:52:13.314',\n",
       "       '2024-09-22T10:52:13.076', '2024-09-22T10:52:13.154',\n",
       "       '2024-09-22T10:52:28.080', '2024-09-22T10:52:28.152',\n",
       "       '2024-09-22T10:52:28.313', '2024-09-22T10:52:43.151'],\n",
       "      dtype='datetime64[ms]')"
      ]
     },
     "execution_count": 97,
     "metadata": {},
     "output_type": "execute_result"
    }
   ],
   "source": [
    "rt"
   ]
  },
  {
   "cell_type": "code",
   "execution_count": 98,
   "metadata": {},
   "outputs": [
    {
     "data": {
      "text/plain": [
       "array(['2024-09-22T10:51:56.130', '2024-09-22T10:51:56.130',\n",
       "       '2024-09-22T10:51:56.130', '2024-09-22T10:52:11.130',\n",
       "       '2024-09-22T10:52:11.130', '2024-09-22T10:52:11.130',\n",
       "       '2024-09-22T10:52:26.130', '2024-09-22T10:52:26.130',\n",
       "       '2024-09-22T10:52:26.130', '2024-09-22T10:52:41.130'],\n",
       "      dtype='datetime64[ms]')"
      ]
     },
     "execution_count": 98,
     "metadata": {},
     "output_type": "execute_result"
    }
   ],
   "source": [
    "pt"
   ]
  },
  {
   "cell_type": "code",
   "execution_count": 99,
   "metadata": {},
   "outputs": [
    {
     "data": {
      "text/plain": [
       "numpy.timedelta64(1944,'ms')"
      ]
     },
     "execution_count": 99,
     "metadata": {},
     "output_type": "execute_result"
    }
   ],
   "source": [
    "rt[0] - pt[0]"
   ]
  },
  {
   "cell_type": "code",
   "execution_count": null,
   "metadata": {},
   "outputs": [],
   "source": []
  }
 ],
 "metadata": {
  "kernelspec": {
   "display_name": "seafloor_geodesy_mac",
   "language": "python",
   "name": "python3"
  },
  "language_info": {
   "codemirror_mode": {
    "name": "ipython",
    "version": 3
   },
   "file_extension": ".py",
   "mimetype": "text/x-python",
   "name": "python",
   "nbconvert_exporter": "python",
   "pygments_lexer": "ipython3",
   "version": "3.11.11"
  }
 },
 "nbformat": 4,
 "nbformat_minor": 2
}
