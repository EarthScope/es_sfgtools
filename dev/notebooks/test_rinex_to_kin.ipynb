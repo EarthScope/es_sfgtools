{
 "cells": [
  {
   "cell_type": "code",
   "execution_count": 11,
   "id": "a55cc84b",
   "metadata": {},
   "outputs": [],
   "source": [
    "from pathlib import Path\n",
    "\n",
    "import georinex"
   ]
  },
  {
   "cell_type": "code",
   "execution_count": 12,
   "id": "ec880816",
   "metadata": {},
   "outputs": [],
   "source": [
    "bad_rinex = Path(\"/Users/franklyndunbar/Project/SeaFloorGeodesy/Data/SFGMain/cascadia-gorda/NCC1/2024_A_1126/intermediate/NCC1287a.24o\")"
   ]
  },
  {
   "cell_type": "code",
   "execution_count": 13,
   "id": "9e83c3a5",
   "metadata": {},
   "outputs": [
    {
     "ename": "IndexError",
     "evalue": "index 43 is out of bounds for axis 2 with size 36",
     "output_type": "error",
     "traceback": [
      "\u001b[0;31m---------------------------------------------------------------------------\u001b[0m",
      "\u001b[0;31mIndexError\u001b[0m                                Traceback (most recent call last)",
      "Cell \u001b[0;32mIn[13], line 1\u001b[0m\n\u001b[0;32m----> 1\u001b[0m rnx \u001b[38;5;241m=\u001b[39m georinex\u001b[38;5;241m.\u001b[39mload(bad_rinex)\n",
      "File \u001b[0;32m~/miniconda3/envs/seafloor_geodesy_mac/lib/python3.11/site-packages/georinex/base.py:67\u001b[0m, in \u001b[0;36mload\u001b[0;34m(rinexfn, out, use, tlim, useindicators, meas, verbose, overwrite, fast, interval)\u001b[0m\n\u001b[1;32m     65\u001b[0m     \u001b[38;5;28;01mreturn\u001b[39;00m rinexnav(rinexfn, outfn, use\u001b[38;5;241m=\u001b[39muse, tlim\u001b[38;5;241m=\u001b[39mtlim, overwrite\u001b[38;5;241m=\u001b[39moverwrite)\n\u001b[1;32m     66\u001b[0m \u001b[38;5;28;01melif\u001b[39;00m info[\u001b[38;5;124m\"\u001b[39m\u001b[38;5;124mrinextype\u001b[39m\u001b[38;5;124m\"\u001b[39m] \u001b[38;5;241m==\u001b[39m \u001b[38;5;124m\"\u001b[39m\u001b[38;5;124mobs\u001b[39m\u001b[38;5;124m\"\u001b[39m:\n\u001b[0;32m---> 67\u001b[0m     \u001b[38;5;28;01mreturn\u001b[39;00m rinexobs(\n\u001b[1;32m     68\u001b[0m         rinexfn,\n\u001b[1;32m     69\u001b[0m         outfn,\n\u001b[1;32m     70\u001b[0m         use\u001b[38;5;241m=\u001b[39muse,\n\u001b[1;32m     71\u001b[0m         tlim\u001b[38;5;241m=\u001b[39mtlim,\n\u001b[1;32m     72\u001b[0m         useindicators\u001b[38;5;241m=\u001b[39museindicators,\n\u001b[1;32m     73\u001b[0m         meas\u001b[38;5;241m=\u001b[39mmeas,\n\u001b[1;32m     74\u001b[0m         verbose\u001b[38;5;241m=\u001b[39mverbose,\n\u001b[1;32m     75\u001b[0m         overwrite\u001b[38;5;241m=\u001b[39moverwrite,\n\u001b[1;32m     76\u001b[0m         fast\u001b[38;5;241m=\u001b[39mfast,\n\u001b[1;32m     77\u001b[0m         interval\u001b[38;5;241m=\u001b[39minterval,\n\u001b[1;32m     78\u001b[0m     )\n\u001b[1;32m     80\u001b[0m \u001b[38;5;28;01massert\u001b[39;00m \u001b[38;5;28misinstance\u001b[39m(rinexfn, Path)\n\u001b[1;32m     82\u001b[0m \u001b[38;5;28;01mif\u001b[39;00m info[\u001b[38;5;124m\"\u001b[39m\u001b[38;5;124mrinextype\u001b[39m\u001b[38;5;124m\"\u001b[39m] \u001b[38;5;241m==\u001b[39m \u001b[38;5;124m\"\u001b[39m\u001b[38;5;124msp3\u001b[39m\u001b[38;5;124m\"\u001b[39m:\n",
      "File \u001b[0;32m~/miniconda3/envs/seafloor_geodesy_mac/lib/python3.11/site-packages/georinex/base.py:216\u001b[0m, in \u001b[0;36mrinexobs\u001b[0;34m(fn, outfn, use, group, tlim, useindicators, meas, verbose, overwrite, fast, interval)\u001b[0m\n\u001b[1;32m    213\u001b[0m info \u001b[38;5;241m=\u001b[39m rinexinfo(fn)\n\u001b[1;32m    215\u001b[0m \u001b[38;5;28;01mif\u001b[39;00m \u001b[38;5;28mint\u001b[39m(info[\u001b[38;5;124m\"\u001b[39m\u001b[38;5;124mversion\u001b[39m\u001b[38;5;124m\"\u001b[39m]) \u001b[38;5;129;01min\u001b[39;00m {\u001b[38;5;241m1\u001b[39m, \u001b[38;5;241m2\u001b[39m}:\n\u001b[0;32m--> 216\u001b[0m     obs \u001b[38;5;241m=\u001b[39m rinexobs2(\n\u001b[1;32m    217\u001b[0m         fn,\n\u001b[1;32m    218\u001b[0m         use,\n\u001b[1;32m    219\u001b[0m         tlim\u001b[38;5;241m=\u001b[39mtlim,\n\u001b[1;32m    220\u001b[0m         useindicators\u001b[38;5;241m=\u001b[39museindicators,\n\u001b[1;32m    221\u001b[0m         meas\u001b[38;5;241m=\u001b[39mmeas,\n\u001b[1;32m    222\u001b[0m         verbose\u001b[38;5;241m=\u001b[39mverbose,\n\u001b[1;32m    223\u001b[0m         fast\u001b[38;5;241m=\u001b[39mfast,\n\u001b[1;32m    224\u001b[0m         interval\u001b[38;5;241m=\u001b[39minterval,\n\u001b[1;32m    225\u001b[0m     )\n\u001b[1;32m    226\u001b[0m \u001b[38;5;28;01melif\u001b[39;00m \u001b[38;5;28mint\u001b[39m(info[\u001b[38;5;124m\"\u001b[39m\u001b[38;5;124mversion\u001b[39m\u001b[38;5;124m\"\u001b[39m]) \u001b[38;5;241m==\u001b[39m \u001b[38;5;241m3\u001b[39m:\n\u001b[1;32m    227\u001b[0m     obs \u001b[38;5;241m=\u001b[39m rinexobs3(\n\u001b[1;32m    228\u001b[0m         fn,\n\u001b[1;32m    229\u001b[0m         use,\n\u001b[0;32m   (...)\u001b[0m\n\u001b[1;32m    235\u001b[0m         interval\u001b[38;5;241m=\u001b[39minterval,\n\u001b[1;32m    236\u001b[0m     )\n",
      "File \u001b[0;32m~/miniconda3/envs/seafloor_geodesy_mac/lib/python3.11/site-packages/georinex/obs2.py:45\u001b[0m, in \u001b[0;36mrinexobs2\u001b[0;34m(fn, use, tlim, useindicators, meas, verbose, fast, interval)\u001b[0m\n\u001b[1;32m     43\u001b[0m attrs: \u001b[38;5;28mdict\u001b[39m[T\u001b[38;5;241m.\u001b[39mHashable, T\u001b[38;5;241m.\u001b[39mAny] \u001b[38;5;241m=\u001b[39m {}\n\u001b[1;32m     44\u001b[0m \u001b[38;5;28;01mfor\u001b[39;00m u \u001b[38;5;129;01min\u001b[39;00m use:\n\u001b[0;32m---> 45\u001b[0m     o \u001b[38;5;241m=\u001b[39m rinexsystem2(\n\u001b[1;32m     46\u001b[0m         fn,\n\u001b[1;32m     47\u001b[0m         system\u001b[38;5;241m=\u001b[39mu,\n\u001b[1;32m     48\u001b[0m         tlim\u001b[38;5;241m=\u001b[39mtlim,\n\u001b[1;32m     49\u001b[0m         useindicators\u001b[38;5;241m=\u001b[39museindicators,\n\u001b[1;32m     50\u001b[0m         meas\u001b[38;5;241m=\u001b[39mmeas,\n\u001b[1;32m     51\u001b[0m         verbose\u001b[38;5;241m=\u001b[39mverbose,\n\u001b[1;32m     52\u001b[0m         fast\u001b[38;5;241m=\u001b[39mfast,\n\u001b[1;32m     53\u001b[0m         interval\u001b[38;5;241m=\u001b[39minterval,\n\u001b[1;32m     54\u001b[0m     )\n\u001b[1;32m     56\u001b[0m     \u001b[38;5;28;01mif\u001b[39;00m \u001b[38;5;28mlen\u001b[39m(o\u001b[38;5;241m.\u001b[39mvariables) \u001b[38;5;241m>\u001b[39m \u001b[38;5;241m0\u001b[39m:\n\u001b[1;32m     57\u001b[0m         attrs \u001b[38;5;241m=\u001b[39m o\u001b[38;5;241m.\u001b[39mattrs\n",
      "File \u001b[0;32m~/miniconda3/envs/seafloor_geodesy_mac/lib/python3.11/site-packages/georinex/obs2.py:253\u001b[0m, in \u001b[0;36mrinexsystem2\u001b[0;34m(fn, system, tlim, useindicators, meas, verbose, fast, interval)\u001b[0m\n\u001b[1;32m    251\u001b[0m                     data[i \u001b[38;5;241m*\u001b[39m \u001b[38;5;241m3\u001b[39m \u001b[38;5;241m+\u001b[39m \u001b[38;5;241m2\u001b[39m, j, isv] \u001b[38;5;241m=\u001b[39m darr[:, k \u001b[38;5;241m*\u001b[39m \u001b[38;5;241m3\u001b[39m \u001b[38;5;241m+\u001b[39m \u001b[38;5;241m2\u001b[39m]\n\u001b[1;32m    252\u001b[0m             \u001b[38;5;28;01melse\u001b[39;00m:\n\u001b[0;32m--> 253\u001b[0m                 data[i, j, isv] \u001b[38;5;241m=\u001b[39m darr[:, k]\n\u001b[1;32m    254\u001b[0m \u001b[38;5;66;03m# %% output gathering\u001b[39;00m\n\u001b[1;32m    255\u001b[0m data \u001b[38;5;241m=\u001b[39m data[:, : times\u001b[38;5;241m.\u001b[39msize, :]  \u001b[38;5;66;03m# trims down for unneeded preallocated\u001b[39;00m\n",
      "\u001b[0;31mIndexError\u001b[0m: index 43 is out of bounds for axis 2 with size 36"
     ]
    }
   ],
   "source": [
    "rnx = georinex.load(bad_rinex)"
   ]
  },
  {
   "cell_type": "code",
   "execution_count": null,
   "id": "bd1ae3bf",
   "metadata": {},
   "outputs": [],
   "source": []
  }
 ],
 "metadata": {
  "kernelspec": {
   "display_name": "seafloor_geodesy_mac",
   "language": "python",
   "name": "python3"
  },
  "language_info": {
   "codemirror_mode": {
    "name": "ipython",
    "version": 3
   },
   "file_extension": ".py",
   "mimetype": "text/x-python",
   "name": "python",
   "nbconvert_exporter": "python",
   "pygments_lexer": "ipython3",
   "version": "3.11.11"
  }
 },
 "nbformat": 4,
 "nbformat_minor": 5
}
